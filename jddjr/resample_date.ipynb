{
 "cells": [
  {
   "cell_type": "code",
   "execution_count": 2,
   "metadata": {
    "collapsed": true
   },
   "outputs": [],
   "source": [
    "import pandas as pd\n",
    "import numpy as np\n",
    "import time"
   ]
  },
  {
   "cell_type": "code",
   "execution_count": 3,
   "metadata": {
    "collapsed": true
   },
   "outputs": [],
   "source": [
    "data_path = '/Users/ruining/Downloads/salesForecast'\n",
    "order = pd.read_csv(data_path + '/t_order.csv')"
   ]
  },
  {
   "cell_type": "code",
   "execution_count": 4,
   "metadata": {
    "collapsed": true
   },
   "outputs": [],
   "source": [
    "def resample_date(start_date, end_date, gap, shop_id=None): \n",
    "    \"\"\"\n",
    "    针对order数据，提供开始日期，结束日期和采样周期，将自动在时间区间采样，\n",
    "    采样周期内的sale值做sum处理变成一个点\n",
    "    \"\"\"\n",
    "    start_sec = time.mktime(time.strptime(start_date,'%Y-%m-%d'))\n",
    "    end_sec = time.mktime(time.strptime(end_date,'%Y-%m-%d'))\n",
    "    period = int((end_sec - start_sec)/(24*60*60))+1\n",
    "\n",
    "    # sift order models\n",
    "    if shop_id is not None:\n",
    "        order_sift = order[(order['ord_dt']>=start_date) & (order.ord_dt<=end_date)&(order.shop_id==shop_id)].loc[:, ['ord_dt', 'sale_amt', 'rtn_amt', 'shop_id']]\n",
    "    else:\n",
    "        order_sift = order[(order['ord_dt']>=start_date) & (order.ord_dt<=end_date)].loc[:, ['ord_dt', 'sale_amt', 'rtn_amt', 'shop_id']]\n",
    "    order_sift = order_sift.groupby(['ord_dt']).sum()\n",
    "    # sales - return money\n",
    "    sales = order_sift.sale_amt - order_sift.rtn_amt\n",
    "    sales_amt = pd.DataFrame({'sales': sales.values}, index=order_sift.index.values)\n",
    "    date_range = pd.date_range(start_date, periods=period, feq='D')\n",
    "    date_range = date_range.strftime('%Y-%m-%d')\n",
    "    time_df = pd.DataFrame(index=date_range )\n",
    "\n",
    "    # combine two dataframes and get the sum sale dataframe\n",
    "    merge_df = pd.concat([sales_amt, time_df], axis=1).fillna(0)\n",
    "    merge_df['group_index'] = gen_group_index(period, gap)\n",
    "    merge_df = merge_df.groupby(['group_index']).sum()\n",
    "\n",
    "    # generate new date index\n",
    "    freq = '%sD' % gap\n",
    "    period_index = pd.date_range(start_date, end_date, freq=freq)\n",
    "    merge_df['period_index'] = period_index\n",
    "    return merge_df\n",
    "\n",
    "# 定义产生分组索引的函数，比如我们要计算的周期是 20 天，则按照日期，20 个交易日一组\n",
    "def gen_group_index(total, group_len):\n",
    "    \"\"\" generate an item group index array\n",
    "\n",
    "    suppose total = 10, unitlen = 2, then we will return array [0 0 1 1 2 2 3 3 4 4]\n",
    "    \"\"\"\n",
    "\n",
    "    group_count = total / group_len\n",
    "    group_index = np.arange(total)\n",
    "    for i in range(group_count):\n",
    "        group_index[i * group_len: (i + 1) * group_len] = i\n",
    "    group_index[(i + 1) * group_len : total] = i + 1\n",
    "    return group_index.tolist()"
   ]
  },
  {
   "cell_type": "code",
   "execution_count": 8,
   "metadata": {
    "scrolled": true
   },
   "outputs": [
    {
     "name": "stdout",
     "output_type": "stream",
     "text": [
      "                sales period_index\n",
      "group_index                       \n",
      "0             2284.56   2016-08-10\n",
      "1             2354.77   2016-08-14\n",
      "2             3832.26   2016-08-18\n",
      "3             3927.59   2016-08-22\n",
      "4             3314.39   2016-08-26\n",
      "5             6450.02   2016-08-30\n",
      "6             5994.08   2016-09-03\n",
      "7             3349.21   2016-09-07\n",
      "8             4003.68   2016-09-11\n",
      "9             1977.33   2016-09-15\n",
      "10            5613.17   2016-09-19\n",
      "11            1722.28   2016-09-23\n",
      "12            3145.07   2016-09-27\n",
      "13            2859.46   2016-10-01\n",
      "14            5580.92   2016-10-05\n",
      "15            4006.57   2016-10-09\n",
      "16            5036.58   2016-10-13\n",
      "17            3257.56   2016-10-17\n",
      "18            4135.40   2016-10-21\n",
      "19            6174.30   2016-10-25\n",
      "20            5286.10   2016-10-29\n",
      "21            9004.48   2016-11-02\n",
      "22            6041.04   2016-11-06\n",
      "23           11741.67   2016-11-10\n",
      "24            8353.95   2016-11-14\n",
      "25            9130.09   2016-11-18\n",
      "26            7846.03   2016-11-22\n",
      "27            3385.21   2016-11-26\n",
      "28            7614.82   2016-11-30\n",
      "29            5167.97   2016-12-04\n",
      "30            3883.62   2016-12-08\n",
      "31            4054.89   2016-12-12\n",
      "32            3039.81   2016-12-16\n",
      "33            2393.28   2016-12-20\n",
      "34            2992.18   2016-12-24\n",
      "35             821.82   2016-12-28\n",
      "36            1665.93   2017-01-01\n",
      "37            1065.47   2017-01-05\n",
      "38            1292.61   2017-01-09\n",
      "39              80.94   2017-01-13\n",
      "40               0.00   2017-01-17\n",
      "41               0.00   2017-01-21\n",
      "42               0.00   2017-01-25\n",
      "43               0.00   2017-01-29\n",
      "44               0.00   2017-02-02\n",
      "45               0.00   2017-02-06\n",
      "46               0.00   2017-02-10\n",
      "47             671.50   2017-02-14\n",
      "48             829.25   2017-02-18\n",
      "49            1333.09   2017-02-22\n",
      "50            1784.06   2017-02-26\n",
      "51            1835.27   2017-03-02\n",
      "52            2522.75   2017-03-06\n",
      "53            2130.13   2017-03-10\n",
      "54            2656.85   2017-03-14\n",
      "55            3974.49   2017-03-18\n",
      "56            2880.91   2017-03-22\n",
      "57            2590.18   2017-03-26\n",
      "58            3345.93   2017-03-30\n"
     ]
    }
   ],
   "source": [
    "print resample_date('2016-08-10', '2017-04-01', 4, shop_id=1300)"
   ]
  },
  {
   "cell_type": "code",
   "execution_count": null,
   "metadata": {
    "collapsed": true
   },
   "outputs": [],
   "source": []
  }
 ],
 "metadata": {
  "kernelspec": {
   "display_name": "Python 2",
   "language": "python",
   "name": "python2"
  },
  "language_info": {
   "codemirror_mode": {
    "name": "ipython",
    "version": 2
   },
   "file_extension": ".py",
   "mimetype": "text/x-python",
   "name": "python",
   "nbconvert_exporter": "python",
   "pygments_lexer": "ipython2",
   "version": "2.7.13"
  }
 },
 "nbformat": 4,
 "nbformat_minor": 2
}
